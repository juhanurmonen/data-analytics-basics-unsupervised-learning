{
  "cells": [
    {
      "cell_type": "markdown",
      "id": "a2d73817-1b16-4266-925c-c7204f37f4b7",
      "metadata": {
        "id": "a2d73817-1b16-4266-925c-c7204f37f4b7"
      },
      "source": [
        "# Klusterianalyysi talouden sovelluksissa"
      ]
    },
    {
      "cell_type": "markdown",
      "id": "cd2ab974-a932-46c2-9867-7ec1595babce",
      "metadata": {
        "id": "cd2ab974-a932-46c2-9867-7ec1595babce"
      },
      "source": [
        "_Kllusterianalyysi_ on tilastotieteen ja data-analytiikan menetelmä, jonka pyrkimyksenä on muodostaa joukon jäsenistä samanlaisten ominaisuuksien mukaisia ryhmiä. Ennustavassa analytiikassa klusterointi on usein pääasiallinen ratkaistava ongelma ja sillä on myös sovelluksia monella alalla, kuten koneoppimisessa, hahmontunnistuksessa, informaationhaussa ja tietokonegrafiikassa."
      ]
    },
    {
      "cell_type": "markdown",
      "id": "c5e31645-d8de-4462-ab7c-becffc9670e0",
      "metadata": {
        "id": "c5e31645-d8de-4462-ab7c-becffc9670e0"
      },
      "source": [
        "## Johdanto"
      ]
    },
    {
      "cell_type": "markdown",
      "id": "7f6efddb-3cf1-44cf-baf2-fd90d0449b07",
      "metadata": {
        "id": "7f6efddb-3cf1-44cf-baf2-fd90d0449b07"
      },
      "source": [
        "Talouslaskennan sovelluksissa klusterianalyysia käytetään usein asiakasryhmien muodostamisessa. Ryhmät voidaan muodostaa esim. myyntisuoritusten suuruuden mukaan, valheellisten vakuutuskorvaushakemusten tunnistamisessa, väestötilastollisessa ryhmittelyssä tai luottokelpoisuuden tunnistamisessa."
      ]
    },
    {
      "cell_type": "markdown",
      "id": "fe2e8c53-1340-4df3-b259-c5df7b949eb6",
      "metadata": {
        "id": "fe2e8c53-1340-4df3-b259-c5df7b949eb6"
      },
      "source": [
        "Klusterianalyysi on ohjaamaton koneoppimisen algoritmi. Etukäteen ennen mallin ajamista ei tiedetä, kuinka monta klusteria (rypästä) aineistossa on. Klusterianalyysia sovelletaan yleensä, kun rippuvuuksien määrä aineistossa ei ole tiedossa. Tekniikka kertoo tuloksena, millaisia riippuvuuksia tai rakennetta aineistossa esiintyy, mutta ei sitä, mitä nuo riippuvuudet ovat tai mitä ne tarkoittavat."
      ]
    },
    {
      "cell_type": "markdown",
      "id": "ba0da4b8-d844-4abe-b5e7-06686785d303",
      "metadata": {
        "id": "ba0da4b8-d844-4abe-b5e7-06686785d303"
      },
      "source": [
        "On myös hyvä huomata, että klusterointi ja klusterianalyysi eivät ole aivan synonyymeja. Klusterointi on ryhmien (klusterien, ryppäiden) etsimista aineistosta ja se on toki oleellinen, tärkeä osa klusterianalyysia. Klusterointia varten on erilaisia algoritmeja, kuten k-means, DBSCAN, hierarkinen klusterointi jne. Klusterisanalyysi käsittää paitsi klusteroinnin myös siihen liittyvän analysoinnin ja klusterien tulkinnat, eritoten koko päätöksenteon prosessin ja lopputuloksen, joka näiden analyysien avulla saavutetaan."
      ]
    },
    {
      "cell_type": "markdown",
      "id": "d5a5b4c0-826c-4ddf-aecc-ce2996b047e7",
      "metadata": {
        "id": "d5a5b4c0-826c-4ddf-aecc-ce2996b047e7"
      },
      "source": [
        "Tässä muistiossa kuvataan vaiheittain klusterianalyysin vaiheet Pythonilla toteutettuna. Analyysin vaiheet ovat\n",
        "* Datan valmistelu\n",
        "* Klustereiden määrän päättäminen\n",
        "* Klusterointialgoritmin soveltaminen\n",
        "* Tulosten visualisointi\n",
        "* Klustereiden laadun arviointi\n",
        "* Tulosten tulkitseminen"
      ]
    },
    {
      "cell_type": "markdown",
      "id": "bb228304-dd2a-488a-8ef3-2d70fe9fc89b",
      "metadata": {
        "id": "bb228304-dd2a-488a-8ef3-2d70fe9fc89b"
      },
      "source": [
        "## Datan valmistelu"
      ]
    },
    {
      "cell_type": "markdown",
      "id": "ad9f6c46-b1e7-453a-b5ed-b263d474bfd9",
      "metadata": {
        "id": "ad9f6c46-b1e7-453a-b5ed-b263d474bfd9"
      },
      "source": [
        "Tässä muistiossa käytetään aineistoa kauppakeskuksen asiakkaista, joka on saatavilla monen monituisesta avoimesta ja julkisesta lähteestä. Aineisto koostuu seuraavista (nimeltä mainitsemattoman) kauppakeskuksen asiakkaiden tiedoista: sukupuoli, ikä, vuositulot ja rahankäyttöaste. Rahankäyttöastetta kuvataan arvosta 1 arvoon 100 skaalautuvana mittarina, joka kuvaa asiakkaan kauppakeskuksessa käyttämää rahamäärää. Tarkoituksena on löytää ja analysoida tästä aineistosta asiakasryhmiä, joilla on samankaltaisia ominaisuuksia tai rakenteita."
      ]
    },
    {
      "cell_type": "markdown",
      "id": "faa7340f-10e2-4773-9566-bf0ee3005ae3",
      "metadata": {
        "id": "faa7340f-10e2-4773-9566-bf0ee3005ae3"
      },
      "source": [
        "Tuodaan ensin tarvittavat kirjastot, luetaan aineisto pandaksen tietokehykseen ja tutustutaan aineistoon."
      ]
    },
    {
      "cell_type": "code",
      "execution_count": 1,
      "id": "31e4b983-7bb6-474a-a931-eb9e4da31314",
      "metadata": {
        "colab": {
          "base_uri": "https://localhost:8080/",
          "height": 206
        },
        "id": "31e4b983-7bb6-474a-a931-eb9e4da31314",
        "outputId": "3c909d2e-35d2-46fd-9bbf-d492f3d847df"
      },
      "outputs": [
        {
          "output_type": "execute_result",
          "data": {
            "text/plain": [
              "   CustomerID  Gender  Age  Annual Income (k$)  Spending Score (1-100)\n",
              "0           1    Male   19                  15                      39\n",
              "1           2    Male   21                  15                      81\n",
              "2           3  Female   20                  16                       6\n",
              "3           4  Female   23                  16                      77\n",
              "4           5  Female   31                  17                      40"
            ],
            "text/html": [
              "\n",
              "  <div id=\"df-f942cfcb-bf19-4746-acd6-321f53217043\" class=\"colab-df-container\">\n",
              "    <div>\n",
              "<style scoped>\n",
              "    .dataframe tbody tr th:only-of-type {\n",
              "        vertical-align: middle;\n",
              "    }\n",
              "\n",
              "    .dataframe tbody tr th {\n",
              "        vertical-align: top;\n",
              "    }\n",
              "\n",
              "    .dataframe thead th {\n",
              "        text-align: right;\n",
              "    }\n",
              "</style>\n",
              "<table border=\"1\" class=\"dataframe\">\n",
              "  <thead>\n",
              "    <tr style=\"text-align: right;\">\n",
              "      <th></th>\n",
              "      <th>CustomerID</th>\n",
              "      <th>Gender</th>\n",
              "      <th>Age</th>\n",
              "      <th>Annual Income (k$)</th>\n",
              "      <th>Spending Score (1-100)</th>\n",
              "    </tr>\n",
              "  </thead>\n",
              "  <tbody>\n",
              "    <tr>\n",
              "      <th>0</th>\n",
              "      <td>1</td>\n",
              "      <td>Male</td>\n",
              "      <td>19</td>\n",
              "      <td>15</td>\n",
              "      <td>39</td>\n",
              "    </tr>\n",
              "    <tr>\n",
              "      <th>1</th>\n",
              "      <td>2</td>\n",
              "      <td>Male</td>\n",
              "      <td>21</td>\n",
              "      <td>15</td>\n",
              "      <td>81</td>\n",
              "    </tr>\n",
              "    <tr>\n",
              "      <th>2</th>\n",
              "      <td>3</td>\n",
              "      <td>Female</td>\n",
              "      <td>20</td>\n",
              "      <td>16</td>\n",
              "      <td>6</td>\n",
              "    </tr>\n",
              "    <tr>\n",
              "      <th>3</th>\n",
              "      <td>4</td>\n",
              "      <td>Female</td>\n",
              "      <td>23</td>\n",
              "      <td>16</td>\n",
              "      <td>77</td>\n",
              "    </tr>\n",
              "    <tr>\n",
              "      <th>4</th>\n",
              "      <td>5</td>\n",
              "      <td>Female</td>\n",
              "      <td>31</td>\n",
              "      <td>17</td>\n",
              "      <td>40</td>\n",
              "    </tr>\n",
              "  </tbody>\n",
              "</table>\n",
              "</div>\n",
              "    <div class=\"colab-df-buttons\">\n",
              "\n",
              "  <div class=\"colab-df-container\">\n",
              "    <button class=\"colab-df-convert\" onclick=\"convertToInteractive('df-f942cfcb-bf19-4746-acd6-321f53217043')\"\n",
              "            title=\"Convert this dataframe to an interactive table.\"\n",
              "            style=\"display:none;\">\n",
              "\n",
              "  <svg xmlns=\"http://www.w3.org/2000/svg\" height=\"24px\" viewBox=\"0 -960 960 960\">\n",
              "    <path d=\"M120-120v-720h720v720H120Zm60-500h600v-160H180v160Zm220 220h160v-160H400v160Zm0 220h160v-160H400v160ZM180-400h160v-160H180v160Zm440 0h160v-160H620v160ZM180-180h160v-160H180v160Zm440 0h160v-160H620v160Z\"/>\n",
              "  </svg>\n",
              "    </button>\n",
              "\n",
              "  <style>\n",
              "    .colab-df-container {\n",
              "      display:flex;\n",
              "      gap: 12px;\n",
              "    }\n",
              "\n",
              "    .colab-df-convert {\n",
              "      background-color: #E8F0FE;\n",
              "      border: none;\n",
              "      border-radius: 50%;\n",
              "      cursor: pointer;\n",
              "      display: none;\n",
              "      fill: #1967D2;\n",
              "      height: 32px;\n",
              "      padding: 0 0 0 0;\n",
              "      width: 32px;\n",
              "    }\n",
              "\n",
              "    .colab-df-convert:hover {\n",
              "      background-color: #E2EBFA;\n",
              "      box-shadow: 0px 1px 2px rgba(60, 64, 67, 0.3), 0px 1px 3px 1px rgba(60, 64, 67, 0.15);\n",
              "      fill: #174EA6;\n",
              "    }\n",
              "\n",
              "    .colab-df-buttons div {\n",
              "      margin-bottom: 4px;\n",
              "    }\n",
              "\n",
              "    [theme=dark] .colab-df-convert {\n",
              "      background-color: #3B4455;\n",
              "      fill: #D2E3FC;\n",
              "    }\n",
              "\n",
              "    [theme=dark] .colab-df-convert:hover {\n",
              "      background-color: #434B5C;\n",
              "      box-shadow: 0px 1px 3px 1px rgba(0, 0, 0, 0.15);\n",
              "      filter: drop-shadow(0px 1px 2px rgba(0, 0, 0, 0.3));\n",
              "      fill: #FFFFFF;\n",
              "    }\n",
              "  </style>\n",
              "\n",
              "    <script>\n",
              "      const buttonEl =\n",
              "        document.querySelector('#df-f942cfcb-bf19-4746-acd6-321f53217043 button.colab-df-convert');\n",
              "      buttonEl.style.display =\n",
              "        google.colab.kernel.accessAllowed ? 'block' : 'none';\n",
              "\n",
              "      async function convertToInteractive(key) {\n",
              "        const element = document.querySelector('#df-f942cfcb-bf19-4746-acd6-321f53217043');\n",
              "        const dataTable =\n",
              "          await google.colab.kernel.invokeFunction('convertToInteractive',\n",
              "                                                    [key], {});\n",
              "        if (!dataTable) return;\n",
              "\n",
              "        const docLinkHtml = 'Like what you see? Visit the ' +\n",
              "          '<a target=\"_blank\" href=https://colab.research.google.com/notebooks/data_table.ipynb>data table notebook</a>'\n",
              "          + ' to learn more about interactive tables.';\n",
              "        element.innerHTML = '';\n",
              "        dataTable['output_type'] = 'display_data';\n",
              "        await google.colab.output.renderOutput(dataTable, element);\n",
              "        const docLink = document.createElement('div');\n",
              "        docLink.innerHTML = docLinkHtml;\n",
              "        element.appendChild(docLink);\n",
              "      }\n",
              "    </script>\n",
              "  </div>\n",
              "\n",
              "\n",
              "    <div id=\"df-d1c6e2b7-7d74-4fe7-a5b2-fa35d9f570ee\">\n",
              "      <button class=\"colab-df-quickchart\" onclick=\"quickchart('df-d1c6e2b7-7d74-4fe7-a5b2-fa35d9f570ee')\"\n",
              "                title=\"Suggest charts\"\n",
              "                style=\"display:none;\">\n",
              "\n",
              "<svg xmlns=\"http://www.w3.org/2000/svg\" height=\"24px\"viewBox=\"0 0 24 24\"\n",
              "     width=\"24px\">\n",
              "    <g>\n",
              "        <path d=\"M19 3H5c-1.1 0-2 .9-2 2v14c0 1.1.9 2 2 2h14c1.1 0 2-.9 2-2V5c0-1.1-.9-2-2-2zM9 17H7v-7h2v7zm4 0h-2V7h2v10zm4 0h-2v-4h2v4z\"/>\n",
              "    </g>\n",
              "</svg>\n",
              "      </button>\n",
              "\n",
              "<style>\n",
              "  .colab-df-quickchart {\n",
              "      --bg-color: #E8F0FE;\n",
              "      --fill-color: #1967D2;\n",
              "      --hover-bg-color: #E2EBFA;\n",
              "      --hover-fill-color: #174EA6;\n",
              "      --disabled-fill-color: #AAA;\n",
              "      --disabled-bg-color: #DDD;\n",
              "  }\n",
              "\n",
              "  [theme=dark] .colab-df-quickchart {\n",
              "      --bg-color: #3B4455;\n",
              "      --fill-color: #D2E3FC;\n",
              "      --hover-bg-color: #434B5C;\n",
              "      --hover-fill-color: #FFFFFF;\n",
              "      --disabled-bg-color: #3B4455;\n",
              "      --disabled-fill-color: #666;\n",
              "  }\n",
              "\n",
              "  .colab-df-quickchart {\n",
              "    background-color: var(--bg-color);\n",
              "    border: none;\n",
              "    border-radius: 50%;\n",
              "    cursor: pointer;\n",
              "    display: none;\n",
              "    fill: var(--fill-color);\n",
              "    height: 32px;\n",
              "    padding: 0;\n",
              "    width: 32px;\n",
              "  }\n",
              "\n",
              "  .colab-df-quickchart:hover {\n",
              "    background-color: var(--hover-bg-color);\n",
              "    box-shadow: 0 1px 2px rgba(60, 64, 67, 0.3), 0 1px 3px 1px rgba(60, 64, 67, 0.15);\n",
              "    fill: var(--button-hover-fill-color);\n",
              "  }\n",
              "\n",
              "  .colab-df-quickchart-complete:disabled,\n",
              "  .colab-df-quickchart-complete:disabled:hover {\n",
              "    background-color: var(--disabled-bg-color);\n",
              "    fill: var(--disabled-fill-color);\n",
              "    box-shadow: none;\n",
              "  }\n",
              "\n",
              "  .colab-df-spinner {\n",
              "    border: 2px solid var(--fill-color);\n",
              "    border-color: transparent;\n",
              "    border-bottom-color: var(--fill-color);\n",
              "    animation:\n",
              "      spin 1s steps(1) infinite;\n",
              "  }\n",
              "\n",
              "  @keyframes spin {\n",
              "    0% {\n",
              "      border-color: transparent;\n",
              "      border-bottom-color: var(--fill-color);\n",
              "      border-left-color: var(--fill-color);\n",
              "    }\n",
              "    20% {\n",
              "      border-color: transparent;\n",
              "      border-left-color: var(--fill-color);\n",
              "      border-top-color: var(--fill-color);\n",
              "    }\n",
              "    30% {\n",
              "      border-color: transparent;\n",
              "      border-left-color: var(--fill-color);\n",
              "      border-top-color: var(--fill-color);\n",
              "      border-right-color: var(--fill-color);\n",
              "    }\n",
              "    40% {\n",
              "      border-color: transparent;\n",
              "      border-right-color: var(--fill-color);\n",
              "      border-top-color: var(--fill-color);\n",
              "    }\n",
              "    60% {\n",
              "      border-color: transparent;\n",
              "      border-right-color: var(--fill-color);\n",
              "    }\n",
              "    80% {\n",
              "      border-color: transparent;\n",
              "      border-right-color: var(--fill-color);\n",
              "      border-bottom-color: var(--fill-color);\n",
              "    }\n",
              "    90% {\n",
              "      border-color: transparent;\n",
              "      border-bottom-color: var(--fill-color);\n",
              "    }\n",
              "  }\n",
              "</style>\n",
              "\n",
              "      <script>\n",
              "        async function quickchart(key) {\n",
              "          const quickchartButtonEl =\n",
              "            document.querySelector('#' + key + ' button');\n",
              "          quickchartButtonEl.disabled = true;  // To prevent multiple clicks.\n",
              "          quickchartButtonEl.classList.add('colab-df-spinner');\n",
              "          try {\n",
              "            const charts = await google.colab.kernel.invokeFunction(\n",
              "                'suggestCharts', [key], {});\n",
              "          } catch (error) {\n",
              "            console.error('Error during call to suggestCharts:', error);\n",
              "          }\n",
              "          quickchartButtonEl.classList.remove('colab-df-spinner');\n",
              "          quickchartButtonEl.classList.add('colab-df-quickchart-complete');\n",
              "        }\n",
              "        (() => {\n",
              "          let quickchartButtonEl =\n",
              "            document.querySelector('#df-d1c6e2b7-7d74-4fe7-a5b2-fa35d9f570ee button');\n",
              "          quickchartButtonEl.style.display =\n",
              "            google.colab.kernel.accessAllowed ? 'block' : 'none';\n",
              "        })();\n",
              "      </script>\n",
              "    </div>\n",
              "\n",
              "    </div>\n",
              "  </div>\n"
            ],
            "application/vnd.google.colaboratory.intrinsic+json": {
              "type": "dataframe",
              "variable_name": "df",
              "summary": "{\n  \"name\": \"df\",\n  \"rows\": 200,\n  \"fields\": [\n    {\n      \"column\": \"CustomerID\",\n      \"properties\": {\n        \"dtype\": \"number\",\n        \"std\": 57,\n        \"min\": 1,\n        \"max\": 200,\n        \"num_unique_values\": 200,\n        \"samples\": [\n          96,\n          16,\n          31\n        ],\n        \"semantic_type\": \"\",\n        \"description\": \"\"\n      }\n    },\n    {\n      \"column\": \"Gender\",\n      \"properties\": {\n        \"dtype\": \"category\",\n        \"num_unique_values\": 2,\n        \"samples\": [\n          \"Female\",\n          \"Male\"\n        ],\n        \"semantic_type\": \"\",\n        \"description\": \"\"\n      }\n    },\n    {\n      \"column\": \"Age\",\n      \"properties\": {\n        \"dtype\": \"number\",\n        \"std\": 13,\n        \"min\": 18,\n        \"max\": 70,\n        \"num_unique_values\": 51,\n        \"samples\": [\n          55,\n          26\n        ],\n        \"semantic_type\": \"\",\n        \"description\": \"\"\n      }\n    },\n    {\n      \"column\": \"Annual Income (k$)\",\n      \"properties\": {\n        \"dtype\": \"number\",\n        \"std\": 26,\n        \"min\": 15,\n        \"max\": 137,\n        \"num_unique_values\": 64,\n        \"samples\": [\n          87,\n          101\n        ],\n        \"semantic_type\": \"\",\n        \"description\": \"\"\n      }\n    },\n    {\n      \"column\": \"Spending Score (1-100)\",\n      \"properties\": {\n        \"dtype\": \"number\",\n        \"std\": 25,\n        \"min\": 1,\n        \"max\": 99,\n        \"num_unique_values\": 84,\n        \"samples\": [\n          83,\n          39\n        ],\n        \"semantic_type\": \"\",\n        \"description\": \"\"\n      }\n    }\n  ]\n}"
            }
          },
          "metadata": {},
          "execution_count": 1
        }
      ],
      "source": [
        "# Tuodaan kirjastot\n",
        "import pandas as pd\n",
        "from sklearn.cluster import KMeans\n",
        "from sklearn.preprocessing import StandardScaler\n",
        "import matplotlib.pyplot as plt\n",
        "import seaborn as sns\n",
        "\n",
        "# Ladataan aineisto linkistä\n",
        "url = 'https://raw.githubusercontent.com/kennedykwangari/Mall-Customer-Segmentation-Data/master/Mall_Customers.csv'\n",
        "df = pd.read_csv(url)\n",
        "\n",
        "# Vilkaisu aineistoon\n",
        "df.head()"
      ]
    },
    {
      "cell_type": "markdown",
      "id": "bbd066b9-3a2f-40bb-b3ed-ffd07d7d39ee",
      "metadata": {
        "id": "bbd066b9-3a2f-40bb-b3ed-ffd07d7d39ee"
      },
      "source": [
        "Lasketaan tästä vielä tunnusluvut."
      ]
    },
    {
      "cell_type": "code",
      "execution_count": 2,
      "id": "69c87382-64cc-4f5c-bc2a-f50cb05e2f7b",
      "metadata": {
        "colab": {
          "base_uri": "https://localhost:8080/",
          "height": 300
        },
        "id": "69c87382-64cc-4f5c-bc2a-f50cb05e2f7b",
        "outputId": "f2592e16-87c8-4801-ea4d-9555600ea17c"
      },
      "outputs": [
        {
          "output_type": "execute_result",
          "data": {
            "text/plain": [
              "       CustomerID     Age  Annual Income (k$)  Spending Score (1-100)\n",
              "count      200.00  200.00              200.00                  200.00\n",
              "mean       100.50   38.85               60.56                   50.20\n",
              "std         57.88   13.97               26.26                   25.82\n",
              "min          1.00   18.00               15.00                    1.00\n",
              "25%         50.75   28.75               41.50                   34.75\n",
              "50%        100.50   36.00               61.50                   50.00\n",
              "75%        150.25   49.00               78.00                   73.00\n",
              "max        200.00   70.00              137.00                   99.00"
            ],
            "text/html": [
              "\n",
              "  <div id=\"df-24de6ff0-832c-4fcc-be79-f87532901897\" class=\"colab-df-container\">\n",
              "    <div>\n",
              "<style scoped>\n",
              "    .dataframe tbody tr th:only-of-type {\n",
              "        vertical-align: middle;\n",
              "    }\n",
              "\n",
              "    .dataframe tbody tr th {\n",
              "        vertical-align: top;\n",
              "    }\n",
              "\n",
              "    .dataframe thead th {\n",
              "        text-align: right;\n",
              "    }\n",
              "</style>\n",
              "<table border=\"1\" class=\"dataframe\">\n",
              "  <thead>\n",
              "    <tr style=\"text-align: right;\">\n",
              "      <th></th>\n",
              "      <th>CustomerID</th>\n",
              "      <th>Age</th>\n",
              "      <th>Annual Income (k$)</th>\n",
              "      <th>Spending Score (1-100)</th>\n",
              "    </tr>\n",
              "  </thead>\n",
              "  <tbody>\n",
              "    <tr>\n",
              "      <th>count</th>\n",
              "      <td>200.00</td>\n",
              "      <td>200.00</td>\n",
              "      <td>200.00</td>\n",
              "      <td>200.00</td>\n",
              "    </tr>\n",
              "    <tr>\n",
              "      <th>mean</th>\n",
              "      <td>100.50</td>\n",
              "      <td>38.85</td>\n",
              "      <td>60.56</td>\n",
              "      <td>50.20</td>\n",
              "    </tr>\n",
              "    <tr>\n",
              "      <th>std</th>\n",
              "      <td>57.88</td>\n",
              "      <td>13.97</td>\n",
              "      <td>26.26</td>\n",
              "      <td>25.82</td>\n",
              "    </tr>\n",
              "    <tr>\n",
              "      <th>min</th>\n",
              "      <td>1.00</td>\n",
              "      <td>18.00</td>\n",
              "      <td>15.00</td>\n",
              "      <td>1.00</td>\n",
              "    </tr>\n",
              "    <tr>\n",
              "      <th>25%</th>\n",
              "      <td>50.75</td>\n",
              "      <td>28.75</td>\n",
              "      <td>41.50</td>\n",
              "      <td>34.75</td>\n",
              "    </tr>\n",
              "    <tr>\n",
              "      <th>50%</th>\n",
              "      <td>100.50</td>\n",
              "      <td>36.00</td>\n",
              "      <td>61.50</td>\n",
              "      <td>50.00</td>\n",
              "    </tr>\n",
              "    <tr>\n",
              "      <th>75%</th>\n",
              "      <td>150.25</td>\n",
              "      <td>49.00</td>\n",
              "      <td>78.00</td>\n",
              "      <td>73.00</td>\n",
              "    </tr>\n",
              "    <tr>\n",
              "      <th>max</th>\n",
              "      <td>200.00</td>\n",
              "      <td>70.00</td>\n",
              "      <td>137.00</td>\n",
              "      <td>99.00</td>\n",
              "    </tr>\n",
              "  </tbody>\n",
              "</table>\n",
              "</div>\n",
              "    <div class=\"colab-df-buttons\">\n",
              "\n",
              "  <div class=\"colab-df-container\">\n",
              "    <button class=\"colab-df-convert\" onclick=\"convertToInteractive('df-24de6ff0-832c-4fcc-be79-f87532901897')\"\n",
              "            title=\"Convert this dataframe to an interactive table.\"\n",
              "            style=\"display:none;\">\n",
              "\n",
              "  <svg xmlns=\"http://www.w3.org/2000/svg\" height=\"24px\" viewBox=\"0 -960 960 960\">\n",
              "    <path d=\"M120-120v-720h720v720H120Zm60-500h600v-160H180v160Zm220 220h160v-160H400v160Zm0 220h160v-160H400v160ZM180-400h160v-160H180v160Zm440 0h160v-160H620v160ZM180-180h160v-160H180v160Zm440 0h160v-160H620v160Z\"/>\n",
              "  </svg>\n",
              "    </button>\n",
              "\n",
              "  <style>\n",
              "    .colab-df-container {\n",
              "      display:flex;\n",
              "      gap: 12px;\n",
              "    }\n",
              "\n",
              "    .colab-df-convert {\n",
              "      background-color: #E8F0FE;\n",
              "      border: none;\n",
              "      border-radius: 50%;\n",
              "      cursor: pointer;\n",
              "      display: none;\n",
              "      fill: #1967D2;\n",
              "      height: 32px;\n",
              "      padding: 0 0 0 0;\n",
              "      width: 32px;\n",
              "    }\n",
              "\n",
              "    .colab-df-convert:hover {\n",
              "      background-color: #E2EBFA;\n",
              "      box-shadow: 0px 1px 2px rgba(60, 64, 67, 0.3), 0px 1px 3px 1px rgba(60, 64, 67, 0.15);\n",
              "      fill: #174EA6;\n",
              "    }\n",
              "\n",
              "    .colab-df-buttons div {\n",
              "      margin-bottom: 4px;\n",
              "    }\n",
              "\n",
              "    [theme=dark] .colab-df-convert {\n",
              "      background-color: #3B4455;\n",
              "      fill: #D2E3FC;\n",
              "    }\n",
              "\n",
              "    [theme=dark] .colab-df-convert:hover {\n",
              "      background-color: #434B5C;\n",
              "      box-shadow: 0px 1px 3px 1px rgba(0, 0, 0, 0.15);\n",
              "      filter: drop-shadow(0px 1px 2px rgba(0, 0, 0, 0.3));\n",
              "      fill: #FFFFFF;\n",
              "    }\n",
              "  </style>\n",
              "\n",
              "    <script>\n",
              "      const buttonEl =\n",
              "        document.querySelector('#df-24de6ff0-832c-4fcc-be79-f87532901897 button.colab-df-convert');\n",
              "      buttonEl.style.display =\n",
              "        google.colab.kernel.accessAllowed ? 'block' : 'none';\n",
              "\n",
              "      async function convertToInteractive(key) {\n",
              "        const element = document.querySelector('#df-24de6ff0-832c-4fcc-be79-f87532901897');\n",
              "        const dataTable =\n",
              "          await google.colab.kernel.invokeFunction('convertToInteractive',\n",
              "                                                    [key], {});\n",
              "        if (!dataTable) return;\n",
              "\n",
              "        const docLinkHtml = 'Like what you see? Visit the ' +\n",
              "          '<a target=\"_blank\" href=https://colab.research.google.com/notebooks/data_table.ipynb>data table notebook</a>'\n",
              "          + ' to learn more about interactive tables.';\n",
              "        element.innerHTML = '';\n",
              "        dataTable['output_type'] = 'display_data';\n",
              "        await google.colab.output.renderOutput(dataTable, element);\n",
              "        const docLink = document.createElement('div');\n",
              "        docLink.innerHTML = docLinkHtml;\n",
              "        element.appendChild(docLink);\n",
              "      }\n",
              "    </script>\n",
              "  </div>\n",
              "\n",
              "\n",
              "    <div id=\"df-d229b601-2d8c-4631-abf4-67779b507ae5\">\n",
              "      <button class=\"colab-df-quickchart\" onclick=\"quickchart('df-d229b601-2d8c-4631-abf4-67779b507ae5')\"\n",
              "                title=\"Suggest charts\"\n",
              "                style=\"display:none;\">\n",
              "\n",
              "<svg xmlns=\"http://www.w3.org/2000/svg\" height=\"24px\"viewBox=\"0 0 24 24\"\n",
              "     width=\"24px\">\n",
              "    <g>\n",
              "        <path d=\"M19 3H5c-1.1 0-2 .9-2 2v14c0 1.1.9 2 2 2h14c1.1 0 2-.9 2-2V5c0-1.1-.9-2-2-2zM9 17H7v-7h2v7zm4 0h-2V7h2v10zm4 0h-2v-4h2v4z\"/>\n",
              "    </g>\n",
              "</svg>\n",
              "      </button>\n",
              "\n",
              "<style>\n",
              "  .colab-df-quickchart {\n",
              "      --bg-color: #E8F0FE;\n",
              "      --fill-color: #1967D2;\n",
              "      --hover-bg-color: #E2EBFA;\n",
              "      --hover-fill-color: #174EA6;\n",
              "      --disabled-fill-color: #AAA;\n",
              "      --disabled-bg-color: #DDD;\n",
              "  }\n",
              "\n",
              "  [theme=dark] .colab-df-quickchart {\n",
              "      --bg-color: #3B4455;\n",
              "      --fill-color: #D2E3FC;\n",
              "      --hover-bg-color: #434B5C;\n",
              "      --hover-fill-color: #FFFFFF;\n",
              "      --disabled-bg-color: #3B4455;\n",
              "      --disabled-fill-color: #666;\n",
              "  }\n",
              "\n",
              "  .colab-df-quickchart {\n",
              "    background-color: var(--bg-color);\n",
              "    border: none;\n",
              "    border-radius: 50%;\n",
              "    cursor: pointer;\n",
              "    display: none;\n",
              "    fill: var(--fill-color);\n",
              "    height: 32px;\n",
              "    padding: 0;\n",
              "    width: 32px;\n",
              "  }\n",
              "\n",
              "  .colab-df-quickchart:hover {\n",
              "    background-color: var(--hover-bg-color);\n",
              "    box-shadow: 0 1px 2px rgba(60, 64, 67, 0.3), 0 1px 3px 1px rgba(60, 64, 67, 0.15);\n",
              "    fill: var(--button-hover-fill-color);\n",
              "  }\n",
              "\n",
              "  .colab-df-quickchart-complete:disabled,\n",
              "  .colab-df-quickchart-complete:disabled:hover {\n",
              "    background-color: var(--disabled-bg-color);\n",
              "    fill: var(--disabled-fill-color);\n",
              "    box-shadow: none;\n",
              "  }\n",
              "\n",
              "  .colab-df-spinner {\n",
              "    border: 2px solid var(--fill-color);\n",
              "    border-color: transparent;\n",
              "    border-bottom-color: var(--fill-color);\n",
              "    animation:\n",
              "      spin 1s steps(1) infinite;\n",
              "  }\n",
              "\n",
              "  @keyframes spin {\n",
              "    0% {\n",
              "      border-color: transparent;\n",
              "      border-bottom-color: var(--fill-color);\n",
              "      border-left-color: var(--fill-color);\n",
              "    }\n",
              "    20% {\n",
              "      border-color: transparent;\n",
              "      border-left-color: var(--fill-color);\n",
              "      border-top-color: var(--fill-color);\n",
              "    }\n",
              "    30% {\n",
              "      border-color: transparent;\n",
              "      border-left-color: var(--fill-color);\n",
              "      border-top-color: var(--fill-color);\n",
              "      border-right-color: var(--fill-color);\n",
              "    }\n",
              "    40% {\n",
              "      border-color: transparent;\n",
              "      border-right-color: var(--fill-color);\n",
              "      border-top-color: var(--fill-color);\n",
              "    }\n",
              "    60% {\n",
              "      border-color: transparent;\n",
              "      border-right-color: var(--fill-color);\n",
              "    }\n",
              "    80% {\n",
              "      border-color: transparent;\n",
              "      border-right-color: var(--fill-color);\n",
              "      border-bottom-color: var(--fill-color);\n",
              "    }\n",
              "    90% {\n",
              "      border-color: transparent;\n",
              "      border-bottom-color: var(--fill-color);\n",
              "    }\n",
              "  }\n",
              "</style>\n",
              "\n",
              "      <script>\n",
              "        async function quickchart(key) {\n",
              "          const quickchartButtonEl =\n",
              "            document.querySelector('#' + key + ' button');\n",
              "          quickchartButtonEl.disabled = true;  // To prevent multiple clicks.\n",
              "          quickchartButtonEl.classList.add('colab-df-spinner');\n",
              "          try {\n",
              "            const charts = await google.colab.kernel.invokeFunction(\n",
              "                'suggestCharts', [key], {});\n",
              "          } catch (error) {\n",
              "            console.error('Error during call to suggestCharts:', error);\n",
              "          }\n",
              "          quickchartButtonEl.classList.remove('colab-df-spinner');\n",
              "          quickchartButtonEl.classList.add('colab-df-quickchart-complete');\n",
              "        }\n",
              "        (() => {\n",
              "          let quickchartButtonEl =\n",
              "            document.querySelector('#df-d229b601-2d8c-4631-abf4-67779b507ae5 button');\n",
              "          quickchartButtonEl.style.display =\n",
              "            google.colab.kernel.accessAllowed ? 'block' : 'none';\n",
              "        })();\n",
              "      </script>\n",
              "    </div>\n",
              "\n",
              "    </div>\n",
              "  </div>\n"
            ],
            "application/vnd.google.colaboratory.intrinsic+json": {
              "type": "dataframe",
              "summary": "{\n  \"name\": \"df\",\n  \"rows\": 8,\n  \"fields\": [\n    {\n      \"column\": \"CustomerID\",\n      \"properties\": {\n        \"dtype\": \"number\",\n        \"std\": 71.77636160822229,\n        \"min\": 1.0,\n        \"max\": 200.0,\n        \"num_unique_values\": 6,\n        \"samples\": [\n          200.0,\n          100.5,\n          150.25\n        ],\n        \"semantic_type\": \"\",\n        \"description\": \"\"\n      }\n    },\n    {\n      \"column\": \"Age\",\n      \"properties\": {\n        \"dtype\": \"number\",\n        \"std\": 60.50125180227974,\n        \"min\": 13.97,\n        \"max\": 200.0,\n        \"num_unique_values\": 8,\n        \"samples\": [\n          38.85,\n          36.0,\n          200.0\n        ],\n        \"semantic_type\": \"\",\n        \"description\": \"\"\n      }\n    },\n    {\n      \"column\": \"Annual Income (k$)\",\n      \"properties\": {\n        \"dtype\": \"number\",\n        \"std\": 62.01094045178065,\n        \"min\": 15.0,\n        \"max\": 200.0,\n        \"num_unique_values\": 8,\n        \"samples\": [\n          60.56,\n          61.5,\n          200.0\n        ],\n        \"semantic_type\": \"\",\n        \"description\": \"\"\n      }\n    },\n    {\n      \"column\": \"Spending Score (1-100)\",\n      \"properties\": {\n        \"dtype\": \"number\",\n        \"std\": 61.4253010778132,\n        \"min\": 1.0,\n        \"max\": 200.0,\n        \"num_unique_values\": 8,\n        \"samples\": [\n          50.2,\n          50.0,\n          200.0\n        ],\n        \"semantic_type\": \"\",\n        \"description\": \"\"\n      }\n    }\n  ]\n}"
            }
          },
          "metadata": {},
          "execution_count": 2
        }
      ],
      "source": [
        "df.describe().round(2)"
      ]
    },
    {
      "cell_type": "code",
      "execution_count": 3,
      "id": "b868dbba-b41e-4485-8443-f6548f0331a7",
      "metadata": {
        "colab": {
          "base_uri": "https://localhost:8080/"
        },
        "id": "b868dbba-b41e-4485-8443-f6548f0331a7",
        "outputId": "9344e896-32b8-4f82-848e-686705fd7396"
      },
      "outputs": [
        {
          "output_type": "stream",
          "name": "stdout",
          "text": [
            "<class 'pandas.core.frame.DataFrame'>\n",
            "RangeIndex: 200 entries, 0 to 199\n",
            "Data columns (total 5 columns):\n",
            " #   Column                  Non-Null Count  Dtype \n",
            "---  ------                  --------------  ----- \n",
            " 0   CustomerID              200 non-null    int64 \n",
            " 1   Gender                  200 non-null    object\n",
            " 2   Age                     200 non-null    int64 \n",
            " 3   Annual Income (k$)      200 non-null    int64 \n",
            " 4   Spending Score (1-100)  200 non-null    int64 \n",
            "dtypes: int64(4), object(1)\n",
            "memory usage: 7.9+ KB\n"
          ]
        }
      ],
      "source": [
        "df.info()"
      ]
    },
    {
      "cell_type": "markdown",
      "id": "9af202ff-b3ae-416f-b882-040f294c4538",
      "metadata": {
        "id": "9af202ff-b3ae-416f-b882-040f294c4538"
      },
      "source": [
        "Edellä tunnusluvuista ja muuttujien kuvauksesta nähtiin jo, että siinä ei ole tyhjiä arvoja. Sitä on kuitenkin syytä muuten vähän muokata analysointia varten. Muuttujien arvojen vaihteluväleillä on tietty epäsuhta ja jotkin muuttujista (tunnistenumero) eivät ole analyysissa oleellisia eikä tässä myöskän kategorinen sukupuolta kuvaava muuttuja."
      ]
    },
    {
      "cell_type": "markdown",
      "id": "895f9c06-176b-431a-86e5-f08c86c8ccc0",
      "metadata": {
        "id": "895f9c06-176b-431a-86e5-f08c86c8ccc0"
      },
      "source": [
        "Datan etukäteissvalmistelu koostuu tämän aineiston tapauksessa siis kahdesta vaiheesta:\n",
        "* __Muuttujien valinta__: Valitaan klusterointiin liittyvät asiaankuuluvat määrälliset muuttujat.\n",
        "* __Normalisointi__: skaalataan muuttujien arvot. Tämä tekee klusterointialgortimista tehokkkaamman."
      ]
    },
    {
      "cell_type": "code",
      "execution_count": 4,
      "id": "18630a1b-2d6c-4ff4-b75a-f01703c6a294",
      "metadata": {
        "id": "18630a1b-2d6c-4ff4-b75a-f01703c6a294"
      },
      "outputs": [],
      "source": [
        "# Valitaan oleelliset muuttujat klusterointiin (esim, ikä, vuositulot, kulutusaste)\n",
        "# Tallennetaan valitut muuttujat uuteen tietokehykseen, annetaan sille nimi 'X'\n",
        "X = df[['Age', 'Annual Income (k$)', 'Spending Score (1-100)']]\n",
        "\n",
        "# Skaalataan (normalisoidaan) muuttujat käyttäen  StandardScaler() -luokkaa; saatavilla sklearn-kirjastossa\n",
        "scaler = StandardScaler()\n",
        "X_scaled = scaler.fit_transform(X)"
      ]
    },
    {
      "cell_type": "markdown",
      "id": "8885f2f0-49b6-4e52-afbe-048594851dc4",
      "metadata": {
        "id": "8885f2f0-49b6-4e52-afbe-048594851dc4"
      },
      "source": [
        "## Klusterien lukumäärän löytäminen"
      ]
    },
    {
      "cell_type": "markdown",
      "id": "5e3236e3-f3d9-4ccb-b319-99f13a7ab5eb",
      "metadata": {
        "id": "5e3236e3-f3d9-4ccb-b319-99f13a7ab5eb"
      },
      "source": [
        "Aineisto on nyt valmis klusterointiin. Riippuen valitsemastamme algoritmin tyypistä, joskus on asetettava arvot tietyille konfigurointiparametreille (koneoppimisessa näytä kutsutaan hyperparametreiksi). Tässä materiaalissa käytettään eräänlaista iteroivaa klusterointimenetelmää ja siihen liittyvässä k-means klusterointialgoritmissa on erokseen kerrottava ryhmien tai klusterien määrä, jotka algoritmin tulisi löytää."
      ]
    },
    {
      "cell_type": "markdown",
      "id": "e670953d-9b21-4432-9e67-fd35a2dd09c4",
      "metadata": {
        "id": "e670953d-9b21-4432-9e67-fd35a2dd09c4"
      },
      "source": [
        "Joissain tapauksissa analyysin tekijällä saattaa olla näkemys sopivaksi klusterien lukumääräksi. Tämä vaatii usein tieto ja näkemystä alasta, aineistosta tai kysymykseasettelusta tai niistä kaikista. MIkäli näkemystä sopivast aklusterien lukumäärästä ei ole, sellaisen löytämiseen on varsin näppärä systmeaattinen yrityksen ja erehdyksen hakumenetelmä. Menetelmän nimi on elbow-menetelmä (**Elbow Method**) ja se koostuu yksinkertaisesti kokeilemalla erilaisia $k$-means-algoritmin konfigurointeja kasvattaen samalla klusterien määrää $k$. Samalla lasketaan klusterien laatua kuvaava **inertia** ja tuloksia voidaan sitten tarkastella kuviona klusterien määrän ja inertian suhteen. Inertiassa pienet arvot kuvaavat tasaisemmin määriteltyjä ryhmiä."
      ]
    },
    {
      "cell_type": "markdown",
      "id": "27e74cbb-5cce-4815-bc03-4bd31d489ca0",
      "metadata": {
        "id": "27e74cbb-5cce-4815-bc03-4bd31d489ca0"
      },
      "source": [
        "Loppujen lopuksi voidaan sanoa, että hyvissä klusterointituloksissa inertian arvot ovat pieniä ja myös klustereiden määrä on alhainen. Niinpä kun esitetään viivakuviona inertian muuttumista $k$:n arvojen kasvaessa, paras $k$:n arvo saadaan viivakuvion alhaalla vasemmalta löytyvästä kuvitteellisesta pisteestä $(0,0)$."
      ]
    },
    {
      "cell_type": "markdown",
      "id": "c387fdb5-5a39-4571-9dd7-48ad7cb4b3dd",
      "metadata": {
        "id": "c387fdb5-5a39-4571-9dd7-48ad7cb4b3dd"
      },
      "source": [
        "Kokeillaan seuraavassa elbow-menetelmää aineistoomme $k$:n arvoilla $k=1,\\ldots,11$ ja tarkastellaan inertian eri arvoja."
      ]
    },
    {
      "cell_type": "code",
      "execution_count": 5,
      "id": "5dac120e-fe1a-4d43-b5d8-afbc1361ef8b",
      "metadata": {
        "colab": {
          "base_uri": "https://localhost:8080/",
          "height": 487
        },
        "id": "5dac120e-fe1a-4d43-b5d8-afbc1361ef8b",
        "outputId": "7bd9f708-af3f-4a47-d295-027a522e7a6d"
      },
      "outputs": [
        {
          "output_type": "display_data",
          "data": {
            "text/plain": [
              "<Figure size 800x500 with 1 Axes>"
            ],
            "image/png": "[encoded data removed]"
          },
          "metadata": {}
        }
      ],
      "source": [
        "# Määritetään optimaalinen klustereiden lukumäärä k elbow-menetelmällä\n",
        "inertia = []\n",
        "for k in range(1, 11):\n",
        "    kmeans = KMeans(n_clusters=k, random_state=42)\n",
        "    kmeans.fit(X_scaled)\n",
        "    inertia.append(kmeans.inertia_)\n",
        "\n",
        "# Piirretään elbow-menetelmän tulokset viivakuvioon ja päätetään sopivin arvo k:lle\n",
        "plt.figure(figsize=(8, 5))\n",
        "plt.plot(range(1, 11), inertia, marker='o')\n",
        "plt.title('Elbow-menetelmä')\n",
        "plt.xlabel('Number of clusters')\n",
        "plt.ylabel('Inertia')\n",
        "plt.show()"
      ]
    },
    {
      "cell_type": "markdown",
      "id": "e7bc1e95-b742-44c8-8032-69067ed9f03e",
      "metadata": {
        "id": "e7bc1e95-b742-44c8-8032-69067ed9f03e"
      },
      "source": [
        "Tämän elbow-menetelmän viivakuvion mukaan **$k=5$** olisi ideaalinen klusterien lukumäärä."
      ]
    },
    {
      "cell_type": "markdown",
      "id": "8084bc3b-6e64-468a-ab55-e377d71157d9",
      "metadata": {
        "id": "8084bc3b-6e64-468a-ab55-e377d71157d9"
      },
      "source": [
        "## Klusterointialgoritmin soveltaminen"
      ]
    },
    {
      "cell_type": "markdown",
      "id": "ccb1d92f-b350-4e94-86fc-b40afc733481",
      "metadata": {
        "id": "ccb1d92f-b350-4e94-86fc-b40afc733481"
      },
      "source": [
        "Pythonin _scikit-learn_-kirjaston avulla $k$-means alritmin suorittaminen on suoraviivaista. Ninhän itse asiassa jo tehtiin edellä elbow-menetelmää sovellettaessa. Nyt niin tehdään vielä kerran valitulla klustereiden lukumäärän $k$:n arvolla."
      ]
    },
    {
      "cell_type": "code",
      "execution_count": 6,
      "id": "710dd666-8bf7-431e-b109-9457880787b9",
      "metadata": {
        "id": "710dd666-8bf7-431e-b109-9457880787b9"
      },
      "outputs": [],
      "source": [
        "# Sovelletaan k-means-algoritmia arvolla k=5\n",
        "kmeans = KMeans(n_clusters=5, random_state=42)\n",
        "kmeans.fit(X_scaled)\n",
        "\n",
        "# Lisästään klusterin tunnisteet alkuperäiseen aineistoon uutena ominaisuutena\n",
        "df['Cluster'] = kmeans.labels_"
      ]
    },
    {
      "cell_type": "markdown",
      "id": "13a73042-88af-454f-a43e-d2c22bac5d69",
      "metadata": {
        "id": "13a73042-88af-454f-a43e-d2c22bac5d69"
      },
      "source": [
        "Jokainen aineiston piste eli asiakas kuuluu johonkin viidestä klusterista ja jokaisella klusterilla on tunnistenumeronsa $0,\\ldots,4$.. Kun $k$-means-algoritmia sovellettiin, tietokehykseen tallennettiin jokaisen asiakkaan osalta klusterin tunnistetieto. Tämä auttaa tulosten visualisoinnissa ja tulosten analysoinnissa."
      ]
    },
    {
      "cell_type": "markdown",
      "id": "e0cabf38-6ef8-4012-b17e-3cc9b7197a04",
      "metadata": {
        "id": "e0cabf38-6ef8-4012-b17e-3cc9b7197a04"
      },
      "source": [
        "## Tulosten visualisointi"
      ]
    },
    {
      "cell_type": "markdown",
      "id": "66b0d188-d798-441e-808b-50e0c8762342",
      "metadata": {
        "id": "66b0d188-d798-441e-808b-50e0c8762342"
      },
      "source": [
        "Klusterien määrän ollessa kaksi tai enemmän, tuloksia voi visualisoida useammlla eri tavalla. Yksinkertainen mutta toimiva tapa on käyttää hajontakuviota, jossa eri klustereilla on oma värinsä. Mikäli tällä tavalla saadaan ainakin joitain selkeitä ryhmiä eroteltua muista, klusteroinnista on ollut hyötyä."
      ]
    },
    {
      "cell_type": "markdown",
      "id": "5d8880c7-9f86-4567-81ac-8e38e0d65dab",
      "metadata": {
        "id": "5d8880c7-9f86-4567-81ac-8e38e0d65dab"
      },
      "source": [
        "Piirretään seuraavassa klusterit, joihin asiakkaat kuuluvat aineiston taloustilannetta kuvaavan muuttujan (vuosituolot ja kulutusaste) mukaan. Tästä saadaan varsin mielenkiintoinen asiakassegmentointi."
      ]
    },
    {
      "cell_type": "code",
      "execution_count": 7,
      "id": "b6cb52ad-419e-4a21-b155-9931fde15d97",
      "metadata": {
        "colab": {
          "base_uri": "https://localhost:8080/",
          "height": 544
        },
        "id": "b6cb52ad-419e-4a21-b155-9931fde15d97",
        "outputId": "d7190cd2-7b00-44e5-f5c3-2c5c10c49621"
      },
      "outputs": [
        {
          "output_type": "display_data",
          "data": {
            "text/plain": [
              "<Figure size 1000x600 with 1 Axes>"
            ],
            "image/png": "[encoded data removed]"
          },
          "metadata": {}
        }
      ],
      "source": [
        "# Visualisoidaan klusterit, jotka käyttävät muuttujia vuositulot ja käyttöaste\n",
        "plt.figure(figsize=(10, 6))\n",
        "sns.scatterplot(x=df['Annual Income (k$)'], y=df['Spending Score (1-100)'], hue=df['Cluster'], palette='viridis', s=100)\n",
        "plt.scatter(kmeans.cluster_centers_[:, 1], kmeans.cluster_centers_[:, 2], s=300, c='red', label='Centroids')\n",
        "plt.title('Asiakassegmentit perustuen vuosituloihin ja käyttöasteeseen')\n",
        "plt.xlabel('Vuositulot (tuhatta dollaria)')\n",
        "plt.ylabel('Käyttöaste (1-100)')\n",
        "plt.legend()\n",
        "plt.show()"
      ]
    },
    {
      "cell_type": "markdown",
      "id": "0bc58f59-f283-4664-a75a-dd6d0e2fad22",
      "metadata": {
        "id": "0bc58f59-f283-4664-a75a-dd6d0e2fad22"
      },
      "source": [
        "## Klustrerien hyvyyden arviointi"
      ]
    },
    {
      "cell_type": "markdown",
      "id": "9345481e-eae6-4e13-b59a-c8a3f594f6a3",
      "metadata": {
        "id": "9345481e-eae6-4e13-b59a-c8a3f594f6a3"
      },
      "source": [
        "Kuviosta nähdään, että asiakkaiden segmentointi ei ole alkuunkaan täydellinen. Etenkin ryhmät 0 ja 3 näyttävät menevän aivan päällekkäin. Tulos auttaa kuitenkin analysoinnissa asiakassegmenttien luomisessa."
      ]
    },
    {
      "cell_type": "markdown",
      "id": "a1f3c32c-a632-40cd-a7b6-8b8a0fa24c9f",
      "metadata": {
        "id": "a1f3c32c-a632-40cd-a7b6-8b8a0fa24c9f"
      },
      "source": [
        "## Tulosten tulkinta"
      ]
    },
    {
      "cell_type": "markdown",
      "id": "b81e07fb-a20a-4db3-a744-f890d3c173a4",
      "metadata": {
        "id": "b81e07fb-a20a-4db3-a744-f890d3c173a4"
      },
      "source": [
        "Yleisesti ottaen asiakkaat vidaan luokitella monin eri tavoin heidän taloudellisen profiilinsa ja kulutuskäyttäytymisensä mukaan. Tuloksista nähdään ainakin seuraavia asioita:\n",
        "* klusteri 0: alhainen tulotaso, vähän kuluttavat asiakkaat, jotka tuskin kiinnittyvät tiettyyn merkkiin vaan ovat ennen kaikkea hintatietoisia\n",
        "* klusteri 1: alhainen tulotaso, paljon kuluttavat asiakkaat, luultavimmin ryhmä usein käyviä asiakkaita, jotka käyttävät suuren osan tuloistaan kauppakeskuksissa yleensäkin ja/tai asuvat lähistöllä\n",
        "* klusteri 2: keskituloisista kovatuloisiin, paljon kuluttavia asiakkaita, luultavimmin yritysten tärkeimpiä asiakkaita\n",
        "* klusteri 3: keskituloisista kovatuloisiin, vähän kuluttavat asiakkaat, luultavimmin varakkaita ja jopa rikkaita asiakkaita, jotka kuluttavat rahaa valikoidusti\n",
        "* klusteri 4: keskituloiset, keskimääräinen rahankulutus, edustavat keskimääräistä asiakassegmenttia, joilla on tasapainoiset kulutustavat."
      ]
    },
    {
      "cell_type": "markdown",
      "id": "c4151ee1-b2da-4b60-8b92-586b25541b13",
      "metadata": {
        "id": "c4151ee1-b2da-4b60-8b92-586b25541b13"
      },
      "source": [
        "Nämä näkemykset voidaan hyödyntää kohdennettuina mainosstrategioina asiakkaille, esim. kullekin rymälle omina mainoksina tai uutiskirjeinä. Tai ne voidaan yhdistää muihin analyyseihin ja pyrkiä pitämään tietyt hpaljon kuluttavat asiakkaat tai saada vähän kuluttavat asiakkaat kuluttamaan enemmän."
      ]
    },
    {
      "cell_type": "markdown",
      "id": "4e61bf83-4b70-4fde-8d28-1b19a3920770",
      "metadata": {
        "id": "4e61bf83-4b70-4fde-8d28-1b19a3920770"
      },
      "source": [
        "On kuirenkin hyvä huomata, että elbow-menetelmästä saatu klusterien lukumäärä ei ole aina se ainoa oikea vaan muitakin kokeilla. Tässä esimerkissä arvo $k=4$ saattaisi auttaa ryhmien 0 ja kolme päällekkäisyyden kanssa."
      ]
    },
    {
      "cell_type": "markdown",
      "id": "e58b8f71-0482-46d9-87d8-f4f08850dec5",
      "metadata": {
        "id": "e58b8f71-0482-46d9-87d8-f4f08850dec5"
      },
      "source": [
        "Lähteet ja kirjallisuus:\n",
        "\n",
        "* [What is cluster analysis and when should you use it?](https://www.qualtrics.com/en-gb/experience-management/research/cluster-analysis/)\n",
        "* [7 Data Insights: How Cluster Analysis Fuels Business Growth](https://www.numberanalytics.com/blog/7-data-insights-cluster-analysis-business-growth)\n",
        "* [Performing Cluster Analysis in Python: A Step-by-Step Tutorial](https://www.statology.org/performing-cluster-analysis-in-python-a-step-by-step-tutorial/)\n",
        "* [10 Clustering Algorithms With Python](https://machinelearningmastery.com/clustering-algorithms-with-python/)\n",
        "* [Cluster analysis](https://en.wikipedia.org/wiki/Cluster_analysis)"
      ]
    },
    {
      "cell_type": "code",
      "execution_count": 8,
      "id": "f8b31b7e-8089-467a-ba5e-acc52afe2161",
      "metadata": {
        "colab": {
          "base_uri": "https://localhost:8080/"
        },
        "id": "f8b31b7e-8089-467a-ba5e-acc52afe2161",
        "outputId": "f898af1b-e23c-4cf5-9d68-fb2cdb0b41bf"
      },
      "outputs": [
        {
          "output_type": "stream",
          "name": "stdout",
          "text": [
            "Last modified 2025-10-25 23:02 by Juha Nurmonen\n"
          ]
        }
      ],
      "source": [
        "import datetime\n",
        "print(f'Last modified {datetime.datetime.now():%Y-%m-%d %H:%M} by Juha Nurmonen')"
      ]
    }
  ],
  "metadata": {
    "kernelspec": {
      "display_name": "Python 3 (ipykernel)",
      "language": "python",
      "name": "python3"
    },
    "language_info": {
      "codemirror_mode": {
        "name": "ipython",
        "version": 3
      },
      "file_extension": ".py",
      "mimetype": "text/x-python",
      "name": "python",
      "nbconvert_exporter": "python",
      "pygments_lexer": "ipython3",
      "version": "3.12.3"
    },
    "colab": {
      "provenance": []
    }
  },
  "nbformat": 4,
  "nbformat_minor": 5
}